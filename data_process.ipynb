{
 "cells": [
  {
   "cell_type": "code",
   "execution_count": 149,
   "metadata": {
    "ExecuteTime": {
     "end_time": "2021-11-22T08:07:50.951777Z",
     "start_time": "2021-11-22T08:07:50.938775Z"
    }
   },
   "outputs": [],
   "source": [
    "import os\n",
    "import shutil"
   ]
  },
  {
   "cell_type": "code",
   "execution_count": 150,
   "metadata": {
    "ExecuteTime": {
     "end_time": "2021-11-22T08:07:51.063775Z",
     "start_time": "2021-11-22T08:07:51.050789Z"
    }
   },
   "outputs": [],
   "source": [
    "def fileList(path_before : str)->list : \n",
    "    file_list = os.listdir(path_before) \n",
    "    category=[]\n",
    "    for file in file_list: \n",
    "        temp_list = file.split(\"_\")  \n",
    "        category.append(temp_list[-1]) \n",
    "    print(len(category))\n",
    "    temp_set = set(category) \n",
    "    result = list(temp_set)\n",
    "    return result \n",
    "\n"
   ]
  },
  {
   "cell_type": "code",
   "execution_count": 151,
   "metadata": {
    "ExecuteTime": {
     "end_time": "2021-11-22T08:07:53.952344Z",
     "start_time": "2021-11-22T08:07:53.901347Z"
    },
    "scrolled": true
   },
   "outputs": [
    {
     "name": "stdout",
     "output_type": "stream",
     "text": [
      "5620\n"
     ]
    }
   ],
   "source": [
    "filelist = fileList('C:/Users/LG그램/Desktop/img')"
   ]
  },
  {
   "cell_type": "code",
   "execution_count": 153,
   "metadata": {
    "ExecuteTime": {
     "end_time": "2021-11-22T08:08:17.849593Z",
     "start_time": "2021-11-22T08:08:07.028698Z"
    }
   },
   "outputs": [],
   "source": [
    "for file in filelist:\n",
    "    ar = glob.glob('C:/Users/LG그램/Desktop/img/*_' + file + '/*')"
   ]
  },
  {
   "cell_type": "code",
   "execution_count": 154,
   "metadata": {
    "ExecuteTime": {
     "end_time": "2021-11-22T08:08:17.867581Z",
     "start_time": "2021-11-22T08:08:17.853584Z"
    }
   },
   "outputs": [],
   "source": [
    "def makeFolder(path_after : str, file_list : list):  \n",
    "    for file in file_list: \n",
    "        try: \n",
    "            os.makedirs(path_after+\"/\"+file) \n",
    "        except: \n",
    "            pass\n"
   ]
  },
  {
   "cell_type": "code",
   "execution_count": 155,
   "metadata": {
    "ExecuteTime": {
     "end_time": "2021-11-22T08:08:17.990619Z",
     "start_time": "2021-11-22T08:08:17.875589Z"
    }
   },
   "outputs": [],
   "source": [
    "makeFolder('C:/Users/LG그램/Desktop/img_process', filelist)"
   ]
  },
  {
   "cell_type": "code",
   "execution_count": 156,
   "metadata": {
    "ExecuteTime": {
     "end_time": "2021-11-22T09:28:57.644379Z",
     "start_time": "2021-11-22T08:08:37.700012Z"
    },
    "scrolled": false
   },
   "outputs": [
    {
     "name": "stdout",
     "output_type": "stream",
     "text": [
      "1\n",
      "2\n",
      "3\n",
      "4\n",
      "5\n",
      "6\n",
      "7\n",
      "8\n",
      "9\n",
      "10\n",
      "11\n",
      "12\n",
      "13\n",
      "14\n",
      "15\n",
      "16\n",
      "17\n",
      "18\n",
      "19\n",
      "20\n",
      "21\n",
      "22\n",
      "23\n",
      "24\n",
      "25\n",
      "26\n",
      "27\n",
      "28\n",
      "29\n",
      "30\n",
      "31\n",
      "32\n",
      "33\n",
      "34\n",
      "35\n",
      "36\n",
      "37\n",
      "38\n",
      "39\n",
      "40\n",
      "41\n",
      "42\n",
      "43\n",
      "44\n",
      "45\n",
      "46\n"
     ]
    }
   ],
   "source": [
    "count=0\n",
    "for file in filelist:\n",
    "    ar = glob.glob('C:/Users/LG그램/Desktop/img/*_' + file + '/*')\n",
    "    for num, a in enumerate(ar):\n",
    "        file_modified = os.path.join('C:/Users/LG그램/Desktop/img_process/'+file, file + '_' + str(num)+'.jpg')\n",
    "        shutil.copy(a, file_modified)\n",
    "    count+=1\n",
    "    print(count)\n"
   ]
  },
  {
   "cell_type": "code",
   "execution_count": 157,
   "metadata": {
    "ExecuteTime": {
     "end_time": "2021-11-22T09:30:51.932247Z",
     "start_time": "2021-11-22T09:30:35.369218Z"
    }
   },
   "outputs": [
    {
     "name": "stdout",
     "output_type": "stream",
     "text": [
      "289219\n"
     ]
    }
   ],
   "source": [
    "# glob.glob('C:/Users/LG그램/Desktop/img/*_' + file + '/*')\n",
    "count=0\n",
    "for file in filelist:\n",
    "    ar = glob.glob('C:/Users/LG그램/Desktop/img_process/' + file + '/*')\n",
    "    count+=len(ar)\n",
    "print(count)"
   ]
  }
 ],
 "metadata": {
  "kernelspec": {
   "display_name": "Python 3",
   "language": "python",
   "name": "python3"
  },
  "language_info": {
   "codemirror_mode": {
    "name": "ipython",
    "version": 3
   },
   "file_extension": ".py",
   "mimetype": "text/x-python",
   "name": "python",
   "nbconvert_exporter": "python",
   "pygments_lexer": "ipython3",
   "version": "3.8.5"
  }
 },
 "nbformat": 4,
 "nbformat_minor": 4
}
